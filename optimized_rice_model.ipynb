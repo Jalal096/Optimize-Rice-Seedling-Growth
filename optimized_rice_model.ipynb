{
 "cells": [
  {
   "cell_type": "code",
   "execution_count": null,
   "metadata": {},
   "outputs": [],
   "source": [
    "import numpy as np\n",
    "import pandas as pd\n",
    "from tensorflow.keras.models import Sequential\n",
    "from tensorflow.keras.layers import LSTM, Dense, Dropout\n",
    "from sklearn.preprocessing import MinMaxScaler"
   ]
  },
  {
   "cell_type": "code",
   "execution_count": null,
   "metadata": {},
   "outputs": [],
   "source": [
    "# 1. Load the Data\n",
    "data = pd.read_csv('realistic_rice_seedling_data.csv')"
   ]
  },
  {
   "cell_type": "code",
   "execution_count": null,
   "metadata": {},
   "outputs": [],
   "source": [
    "# Features: Environmental conditions\n",
    "features = data[['Temperature (°C)', 'Humidity (%)', 'Light Intensity (lux)', \n",
    "                 'CO2 Levels (ppm)', 'Water Supply (L/day)', \n",
    "                 'Nutrient Concentration (%)', 'Soil Moisture (%)']]"
   ]
  },
  {
   "cell_type": "code",
   "execution_count": null,
   "metadata": {},
   "outputs": [],
   "source": [
    "targets = pd.DataFrame({\n",
    "    'Optimal Temperature (°C)': data['Temperature (°C)'] + np.random.uniform(0, 2, len(data)),\n",
    "    'Optimal Humidity (%)': data['Humidity (%)'] + np.random.uniform(-5, 5, len(data)),\n",
    "    'Optimal Light Intensity (lux)': data['Light Intensity (lux)'] + np.random.uniform(-500, 500, len(data)),\n",
    "    'Optimal CO2 Levels (ppm)': data['CO2 Levels (ppm)'] + np.random.uniform(-20, 20, len(data)),\n",
    "    'Optimal Water Supply (L/day)': data['Water Supply (L/day)'] + np.random.uniform(-0.1, 0.1, len(data)),\n",
    "    'Optimal Nutrient Concentration (%)': data['Nutrient Concentration (%)'] + np.random.uniform(-0.5, 0.5, len(data)),\n",
    "    'Optimal Soil Moisture (%)': data['Soil Moisture (%)'] + np.random.uniform(-5, 5, len(data))\n",
    "})"
   ]
  },
  {
   "cell_type": "code",
   "execution_count": null,
   "metadata": {},
   "outputs": [],
   "source": [
    "scaler = MinMaxScaler(feature_range=(0, 1))\n",
    "scaled_features = scaler.fit_transform(features)\n",
    "scaled_targets = scaler.fit_transform(targets)"
   ]
  },
  {
   "cell_type": "code",
   "execution_count": null,
   "metadata": {},
   "outputs": [],
   "source": [
    "# Reshape for LSTM [samples, time steps, features]\n",
    "X = np.reshape(scaled_features, (scaled_features.shape[0], 1, scaled_features.shape[1]))\n",
    "y = scaled_targets"
   ]
  },
  {
   "cell_type": "code",
   "execution_count": null,
   "metadata": {},
   "outputs": [],
   "source": [
    "# 3. Build the LSTM Model\n",
    "model = Sequential()\n",
    "model.add(LSTM(50, return_sequences=False, input_shape=(X.shape[1], X.shape[2])))\n",
    "model.add(Dropout(0.2))  # Dropout for regularization\n",
    "model.add(Dense(64, activation='relu'))  # Hidden layer\n",
    "model.add(Dense(y.shape[1], activation='linear'))  # Output layer: one node for each optimal condition"
   ]
  },
  {
   "cell_type": "code",
   "execution_count": null,
   "metadata": {},
   "outputs": [],
   "source": [
    "from tensorflow.keras.optimizers import Adam\n",
    "# Compile the model\n",
    "optimizer = Adam(learning_rate=0.001)\n",
    "model.compile(optimizer=optimizer, loss='mean_squared_error')\n"
   ]
  },
  {
   "cell_type": "code",
   "execution_count": null,
   "metadata": {},
   "outputs": [],
   "source": [
    "# 4. Train the Model\n",
    "history = model.fit(X, y, epochs=100, batch_size=32, validation_split=0.2, verbose=1)\n"
   ]
  },
  {
   "cell_type": "code",
   "execution_count": null,
   "metadata": {},
   "outputs": [],
   "source": [
    "# 5. Make Predictions for Optimization\n",
    "predicted_conditions = model.predict(X)\n"
   ]
  },
  {
   "cell_type": "code",
   "execution_count": null,
   "metadata": {},
   "outputs": [],
   "source": [
    "# Rescale the predictions back to original scale\n",
    "predicted_conditions = scaler.inverse_transform(predicted_conditions)\n"
   ]
  },
  {
   "cell_type": "code",
   "execution_count": null,
   "metadata": {},
   "outputs": [],
   "source": [
    "# Display predicted optimal conditions for first few rows\n",
    "print(\"Predicted Optimal Conditions:\")\n",
    "print(predicted_conditions[:5])\n"
   ]
  },
  {
   "cell_type": "code",
   "execution_count": null,
   "metadata": {},
   "outputs": [],
   "source": []
  }
 ],
 "metadata": {
  "kernelspec": {
   "display_name": "Python 3 (ipykernel)",
   "language": "python",
   "name": "python3"
  },
  "language_info": {
   "codemirror_mode": {
    "name": "ipython",
    "version": 3
   },
   "file_extension": ".py",
   "mimetype": "text/x-python",
   "name": "python",
   "nbconvert_exporter": "python",
   "pygments_lexer": "ipython3",
   "version": "3.11.9"
  }
 },
 "nbformat": 4,
 "nbformat_minor": 4
}
